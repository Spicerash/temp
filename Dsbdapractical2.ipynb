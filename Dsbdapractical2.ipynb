{
 "cells": [
  {
   "cell_type": "code",
   "execution_count": null,
   "id": "a18dd54a",
   "metadata": {},
   "outputs": [],
   "source": [
    "#DSBDA practical 2\n",
    "# load the datasets\n",
    "# Display The Basic Information\n",
    "# Display statistical information\n",
    "# Display null Values\n",
    "# Fill the Null Value\n",
    "# Quantization (Encoding): Convert categorical to numerical Variable\n",
    "# Handle outliers\n",
    "# Handle skewed data\n",
    "\n"
   ]
  },
  {
   "cell_type": "code",
   "execution_count": 21,
   "id": "c1094cae",
   "metadata": {},
   "outputs": [],
   "source": [
    "import pandas as pd"
   ]
  },
  {
   "cell_type": "code",
   "execution_count": 22,
   "id": "7311fb8b",
   "metadata": {},
   "outputs": [],
   "source": [
    "import numpy as np"
   ]
  },
  {
   "cell_type": "code",
   "execution_count": 23,
   "id": "2cb9a20a",
   "metadata": {},
   "outputs": [],
   "source": [
    "import matplotlib.pyplot as plt"
   ]
  },
  {
   "cell_type": "code",
   "execution_count": 24,
   "id": "b4ff4e4d",
   "metadata": {},
   "outputs": [],
   "source": [
    "import seaborn as sns"
   ]
  },
  {
   "cell_type": "code",
   "execution_count": 25,
   "id": "6a4463ee",
   "metadata": {},
   "outputs": [],
   "source": [
    "df=pd.read_csv('academic.csv')"
   ]
  },
  {
   "cell_type": "code",
   "execution_count": 49,
   "id": "948f71dd",
   "metadata": {},
   "outputs": [],
   "source": [
    "def DetectOutlier(df,var):\n",
    " # IQR method is used to deal with outliers\n",
    " Q1 = df[var].quantile(0.25)\n",
    " Q3 = df[var].quantile(0.75)\n",
    " IQR = Q3 - Q1\n",
    " high, low = Q3+1.5*IQR, Q1-1.5*IQR\n",
    "\n",
    " print(\"Highest allowed in variable:\", var, high)\n",
    " print(\"lowest allowed in variable:\", var, low)\n",
    " count = df[(df[var] > high) | (df[var] < low)][var].count()\n",
    " print('Total outliers in:',var,':',count)\n",
    " # new dataframe is created which contains outliers\n",
    " df1 = df[((df[var] < low) | (df[var] > high))] #these are outliers\n",
    " print('Outliers : \\n', len(df1))\n",
    " print(df1.T)\n",
    " df = df[((df[var] >= low) & (df[var] <= high))] #now filter out data which is not outlier\n",
    " return(df)\n",
    "    \n"
   ]
  },
  {
   "cell_type": "code",
   "execution_count": 26,
   "id": "277a8e9c",
   "metadata": {},
   "outputs": [
    {
     "name": "stdout",
     "output_type": "stream",
     "text": [
      "Information of Datasets:\n",
      " <bound method DataFrame.info of     gender NationalITy PlaceofBirth       StageID GradeID SectionID  \\\n",
      "0        M          KW       KuwaIT    lowerlevel    G-04         A   \n",
      "1        M          KW       KuwaIT    lowerlevel    G-04         A   \n",
      "2        M          KW       KuwaIT    lowerlevel    G-04         A   \n",
      "3        M          KW       KuwaIT    lowerlevel    G-04         A   \n",
      "4        M          KW       KuwaIT    lowerlevel    G-04         A   \n",
      "..     ...         ...          ...           ...     ...       ...   \n",
      "475      F      Jordan       Jordan  MiddleSchool    G-08         A   \n",
      "476      F      Jordan       Jordan  MiddleSchool    G-08         A   \n",
      "477      F      Jordan       Jordan  MiddleSchool    G-08         A   \n",
      "478      F      Jordan       Jordan  MiddleSchool    G-08         A   \n",
      "479      F      Jordan       Jordan  MiddleSchool    G-08         A   \n",
      "\n",
      "         Topic Semester Relation  raisedhands  VisITedResources  \\\n",
      "0           IT        F   Father         15.0                16   \n",
      "1           IT        F   Father          NaN                20   \n",
      "2           IT        F   Father         10.0                 7   \n",
      "3           IT        F   Father         30.0                25   \n",
      "4           IT        F   Father          0.0                50   \n",
      "..         ...      ...      ...          ...               ...   \n",
      "475  Chemistry        S   Father          5.0                 4   \n",
      "476    Geology        F   Father         50.0                77   \n",
      "477    Geology        S   Father         55.0                74   \n",
      "478    History        F   Father         30.0                17   \n",
      "479    History        S   Father         35.0                14   \n",
      "\n",
      "     AnnouncementsView  Discussion ParentAnsweringSurvey  \\\n",
      "0                    2          20                   Yes   \n",
      "1                    3          25                   Yes   \n",
      "2                    0          30                    No   \n",
      "3                    5          35                    No   \n",
      "4                   12          50                    No   \n",
      "..                 ...         ...                   ...   \n",
      "475                  5           8                    No   \n",
      "476                 14          28                    No   \n",
      "477                 25          29                    No   \n",
      "478                 14          57                    No   \n",
      "479                 23          62                    No   \n",
      "\n",
      "    ParentschoolSatisfaction StudentAbsenceDays Class  \n",
      "0                       Good            Under-7     M  \n",
      "1                       Good            Under-7     M  \n",
      "2                        Bad            Above-7     L  \n",
      "3                        Bad            Above-7     L  \n",
      "4                        Bad            Above-7     M  \n",
      "..                       ...                ...   ...  \n",
      "475                      Bad            Above-7     L  \n",
      "476                      Bad            Under-7     M  \n",
      "477                      Bad            Under-7     M  \n",
      "478                      Bad            Above-7     L  \n",
      "479                      Bad            Above-7     L  \n",
      "\n",
      "[480 rows x 17 columns]>\n"
     ]
    }
   ],
   "source": [
    "print('Information of Datasets:\\n',df.info)"
   ]
  },
  {
   "cell_type": "code",
   "execution_count": 28,
   "id": "b37717e8",
   "metadata": {},
   "outputs": [
    {
     "name": "stdout",
     "output_type": "stream",
     "text": [
      "Shape of Datasets:\n",
      " (480, 17)\n"
     ]
    }
   ],
   "source": [
    "print('Shape of Datasets:\\n',df.shape)"
   ]
  },
  {
   "cell_type": "code",
   "execution_count": 29,
   "id": "1bacb8c8",
   "metadata": {},
   "outputs": [
    {
     "name": "stdout",
     "output_type": "stream",
     "text": [
      "Columns Name:\n",
      " Index(['gender', 'NationalITy', 'PlaceofBirth', 'StageID', 'GradeID',\n",
      "       'SectionID', 'Topic', 'Semester', 'Relation', 'raisedhands',\n",
      "       'VisITedResources', 'AnnouncementsView', 'Discussion',\n",
      "       'ParentAnsweringSurvey', 'ParentschoolSatisfaction',\n",
      "       'StudentAbsenceDays', 'Class'],\n",
      "      dtype='object')\n"
     ]
    }
   ],
   "source": [
    "print('Columns Name:\\n',df.columns)"
   ]
  },
  {
   "cell_type": "code",
   "execution_count": 30,
   "id": "8c77c4d1",
   "metadata": {},
   "outputs": [
    {
     "data": {
      "text/plain": [
       "8160"
      ]
     },
     "execution_count": 30,
     "metadata": {},
     "output_type": "execute_result"
    }
   ],
   "source": [
    "df.size"
   ]
  },
  {
   "cell_type": "code",
   "execution_count": 31,
   "id": "ae0aff4a",
   "metadata": {},
   "outputs": [
    {
     "data": {
      "text/plain": [
       "gender                       object\n",
       "NationalITy                  object\n",
       "PlaceofBirth                 object\n",
       "StageID                      object\n",
       "GradeID                      object\n",
       "SectionID                    object\n",
       "Topic                        object\n",
       "Semester                     object\n",
       "Relation                     object\n",
       "raisedhands                 float64\n",
       "VisITedResources              int64\n",
       "AnnouncementsView             int64\n",
       "Discussion                    int64\n",
       "ParentAnsweringSurvey        object\n",
       "ParentschoolSatisfaction     object\n",
       "StudentAbsenceDays           object\n",
       "Class                        object\n",
       "dtype: object"
      ]
     },
     "execution_count": 31,
     "metadata": {},
     "output_type": "execute_result"
    }
   ],
   "source": [
    "df.dtypes"
   ]
  },
  {
   "cell_type": "code",
   "execution_count": 35,
   "id": "60bc2eaa",
   "metadata": {},
   "outputs": [
    {
     "data": {
      "text/html": [
       "<div>\n",
       "<style scoped>\n",
       "    .dataframe tbody tr th:only-of-type {\n",
       "        vertical-align: middle;\n",
       "    }\n",
       "\n",
       "    .dataframe tbody tr th {\n",
       "        vertical-align: top;\n",
       "    }\n",
       "\n",
       "    .dataframe thead th {\n",
       "        text-align: right;\n",
       "    }\n",
       "</style>\n",
       "<table border=\"1\" class=\"dataframe\">\n",
       "  <thead>\n",
       "    <tr style=\"text-align: right;\">\n",
       "      <th></th>\n",
       "      <th>0</th>\n",
       "      <th>1</th>\n",
       "      <th>2</th>\n",
       "      <th>3</th>\n",
       "      <th>4</th>\n",
       "    </tr>\n",
       "  </thead>\n",
       "  <tbody>\n",
       "    <tr>\n",
       "      <th>gender</th>\n",
       "      <td>M</td>\n",
       "      <td>M</td>\n",
       "      <td>M</td>\n",
       "      <td>M</td>\n",
       "      <td>M</td>\n",
       "    </tr>\n",
       "    <tr>\n",
       "      <th>NationalITy</th>\n",
       "      <td>KW</td>\n",
       "      <td>KW</td>\n",
       "      <td>KW</td>\n",
       "      <td>KW</td>\n",
       "      <td>KW</td>\n",
       "    </tr>\n",
       "    <tr>\n",
       "      <th>PlaceofBirth</th>\n",
       "      <td>KuwaIT</td>\n",
       "      <td>KuwaIT</td>\n",
       "      <td>KuwaIT</td>\n",
       "      <td>KuwaIT</td>\n",
       "      <td>KuwaIT</td>\n",
       "    </tr>\n",
       "    <tr>\n",
       "      <th>StageID</th>\n",
       "      <td>lowerlevel</td>\n",
       "      <td>lowerlevel</td>\n",
       "      <td>lowerlevel</td>\n",
       "      <td>lowerlevel</td>\n",
       "      <td>lowerlevel</td>\n",
       "    </tr>\n",
       "    <tr>\n",
       "      <th>GradeID</th>\n",
       "      <td>G-04</td>\n",
       "      <td>G-04</td>\n",
       "      <td>G-04</td>\n",
       "      <td>G-04</td>\n",
       "      <td>G-04</td>\n",
       "    </tr>\n",
       "    <tr>\n",
       "      <th>SectionID</th>\n",
       "      <td>A</td>\n",
       "      <td>A</td>\n",
       "      <td>A</td>\n",
       "      <td>A</td>\n",
       "      <td>A</td>\n",
       "    </tr>\n",
       "    <tr>\n",
       "      <th>Topic</th>\n",
       "      <td>IT</td>\n",
       "      <td>IT</td>\n",
       "      <td>IT</td>\n",
       "      <td>IT</td>\n",
       "      <td>IT</td>\n",
       "    </tr>\n",
       "    <tr>\n",
       "      <th>Semester</th>\n",
       "      <td>F</td>\n",
       "      <td>F</td>\n",
       "      <td>F</td>\n",
       "      <td>F</td>\n",
       "      <td>F</td>\n",
       "    </tr>\n",
       "    <tr>\n",
       "      <th>Relation</th>\n",
       "      <td>Father</td>\n",
       "      <td>Father</td>\n",
       "      <td>Father</td>\n",
       "      <td>Father</td>\n",
       "      <td>Father</td>\n",
       "    </tr>\n",
       "    <tr>\n",
       "      <th>raisedhands</th>\n",
       "      <td>15.0</td>\n",
       "      <td>NaN</td>\n",
       "      <td>10.0</td>\n",
       "      <td>30.0</td>\n",
       "      <td>0.0</td>\n",
       "    </tr>\n",
       "    <tr>\n",
       "      <th>VisITedResources</th>\n",
       "      <td>16</td>\n",
       "      <td>20</td>\n",
       "      <td>7</td>\n",
       "      <td>25</td>\n",
       "      <td>50</td>\n",
       "    </tr>\n",
       "    <tr>\n",
       "      <th>AnnouncementsView</th>\n",
       "      <td>2</td>\n",
       "      <td>3</td>\n",
       "      <td>0</td>\n",
       "      <td>5</td>\n",
       "      <td>12</td>\n",
       "    </tr>\n",
       "    <tr>\n",
       "      <th>Discussion</th>\n",
       "      <td>20</td>\n",
       "      <td>25</td>\n",
       "      <td>30</td>\n",
       "      <td>35</td>\n",
       "      <td>50</td>\n",
       "    </tr>\n",
       "    <tr>\n",
       "      <th>ParentAnsweringSurvey</th>\n",
       "      <td>Yes</td>\n",
       "      <td>Yes</td>\n",
       "      <td>No</td>\n",
       "      <td>No</td>\n",
       "      <td>No</td>\n",
       "    </tr>\n",
       "    <tr>\n",
       "      <th>ParentschoolSatisfaction</th>\n",
       "      <td>Good</td>\n",
       "      <td>Good</td>\n",
       "      <td>Bad</td>\n",
       "      <td>Bad</td>\n",
       "      <td>Bad</td>\n",
       "    </tr>\n",
       "    <tr>\n",
       "      <th>StudentAbsenceDays</th>\n",
       "      <td>Under-7</td>\n",
       "      <td>Under-7</td>\n",
       "      <td>Above-7</td>\n",
       "      <td>Above-7</td>\n",
       "      <td>Above-7</td>\n",
       "    </tr>\n",
       "    <tr>\n",
       "      <th>Class</th>\n",
       "      <td>M</td>\n",
       "      <td>M</td>\n",
       "      <td>L</td>\n",
       "      <td>L</td>\n",
       "      <td>M</td>\n",
       "    </tr>\n",
       "  </tbody>\n",
       "</table>\n",
       "</div>"
      ],
      "text/plain": [
       "                                   0           1           2           3  \\\n",
       "gender                             M           M           M           M   \n",
       "NationalITy                       KW          KW          KW          KW   \n",
       "PlaceofBirth                  KuwaIT      KuwaIT      KuwaIT      KuwaIT   \n",
       "StageID                   lowerlevel  lowerlevel  lowerlevel  lowerlevel   \n",
       "GradeID                         G-04        G-04        G-04        G-04   \n",
       "SectionID                          A           A           A           A   \n",
       "Topic                             IT          IT          IT          IT   \n",
       "Semester                           F           F           F           F   \n",
       "Relation                      Father      Father      Father      Father   \n",
       "raisedhands                     15.0         NaN        10.0        30.0   \n",
       "VisITedResources                  16          20           7          25   \n",
       "AnnouncementsView                  2           3           0           5   \n",
       "Discussion                        20          25          30          35   \n",
       "ParentAnsweringSurvey            Yes         Yes          No          No   \n",
       "ParentschoolSatisfaction        Good        Good         Bad         Bad   \n",
       "StudentAbsenceDays           Under-7     Under-7     Above-7     Above-7   \n",
       "Class                              M           M           L           L   \n",
       "\n",
       "                                   4  \n",
       "gender                             M  \n",
       "NationalITy                       KW  \n",
       "PlaceofBirth                  KuwaIT  \n",
       "StageID                   lowerlevel  \n",
       "GradeID                         G-04  \n",
       "SectionID                          A  \n",
       "Topic                             IT  \n",
       "Semester                           F  \n",
       "Relation                      Father  \n",
       "raisedhands                      0.0  \n",
       "VisITedResources                  50  \n",
       "AnnouncementsView                 12  \n",
       "Discussion                        50  \n",
       "ParentAnsweringSurvey             No  \n",
       "ParentschoolSatisfaction         Bad  \n",
       "StudentAbsenceDays           Above-7  \n",
       "Class                              M  "
      ]
     },
     "execution_count": 35,
     "metadata": {},
     "output_type": "execute_result"
    }
   ],
   "source": [
    "df.head().T"
   ]
  },
  {
   "cell_type": "code",
   "execution_count": 36,
   "id": "cc040d2f",
   "metadata": {},
   "outputs": [
    {
     "data": {
      "text/html": [
       "<div>\n",
       "<style scoped>\n",
       "    .dataframe tbody tr th:only-of-type {\n",
       "        vertical-align: middle;\n",
       "    }\n",
       "\n",
       "    .dataframe tbody tr th {\n",
       "        vertical-align: top;\n",
       "    }\n",
       "\n",
       "    .dataframe thead th {\n",
       "        text-align: right;\n",
       "    }\n",
       "</style>\n",
       "<table border=\"1\" class=\"dataframe\">\n",
       "  <thead>\n",
       "    <tr style=\"text-align: right;\">\n",
       "      <th></th>\n",
       "      <th>475</th>\n",
       "      <th>476</th>\n",
       "      <th>477</th>\n",
       "      <th>478</th>\n",
       "      <th>479</th>\n",
       "    </tr>\n",
       "  </thead>\n",
       "  <tbody>\n",
       "    <tr>\n",
       "      <th>gender</th>\n",
       "      <td>F</td>\n",
       "      <td>F</td>\n",
       "      <td>F</td>\n",
       "      <td>F</td>\n",
       "      <td>F</td>\n",
       "    </tr>\n",
       "    <tr>\n",
       "      <th>NationalITy</th>\n",
       "      <td>Jordan</td>\n",
       "      <td>Jordan</td>\n",
       "      <td>Jordan</td>\n",
       "      <td>Jordan</td>\n",
       "      <td>Jordan</td>\n",
       "    </tr>\n",
       "    <tr>\n",
       "      <th>PlaceofBirth</th>\n",
       "      <td>Jordan</td>\n",
       "      <td>Jordan</td>\n",
       "      <td>Jordan</td>\n",
       "      <td>Jordan</td>\n",
       "      <td>Jordan</td>\n",
       "    </tr>\n",
       "    <tr>\n",
       "      <th>StageID</th>\n",
       "      <td>MiddleSchool</td>\n",
       "      <td>MiddleSchool</td>\n",
       "      <td>MiddleSchool</td>\n",
       "      <td>MiddleSchool</td>\n",
       "      <td>MiddleSchool</td>\n",
       "    </tr>\n",
       "    <tr>\n",
       "      <th>GradeID</th>\n",
       "      <td>G-08</td>\n",
       "      <td>G-08</td>\n",
       "      <td>G-08</td>\n",
       "      <td>G-08</td>\n",
       "      <td>G-08</td>\n",
       "    </tr>\n",
       "    <tr>\n",
       "      <th>SectionID</th>\n",
       "      <td>A</td>\n",
       "      <td>A</td>\n",
       "      <td>A</td>\n",
       "      <td>A</td>\n",
       "      <td>A</td>\n",
       "    </tr>\n",
       "    <tr>\n",
       "      <th>Topic</th>\n",
       "      <td>Chemistry</td>\n",
       "      <td>Geology</td>\n",
       "      <td>Geology</td>\n",
       "      <td>History</td>\n",
       "      <td>History</td>\n",
       "    </tr>\n",
       "    <tr>\n",
       "      <th>Semester</th>\n",
       "      <td>S</td>\n",
       "      <td>F</td>\n",
       "      <td>S</td>\n",
       "      <td>F</td>\n",
       "      <td>S</td>\n",
       "    </tr>\n",
       "    <tr>\n",
       "      <th>Relation</th>\n",
       "      <td>Father</td>\n",
       "      <td>Father</td>\n",
       "      <td>Father</td>\n",
       "      <td>Father</td>\n",
       "      <td>Father</td>\n",
       "    </tr>\n",
       "    <tr>\n",
       "      <th>raisedhands</th>\n",
       "      <td>5.0</td>\n",
       "      <td>50.0</td>\n",
       "      <td>55.0</td>\n",
       "      <td>30.0</td>\n",
       "      <td>35.0</td>\n",
       "    </tr>\n",
       "    <tr>\n",
       "      <th>VisITedResources</th>\n",
       "      <td>4</td>\n",
       "      <td>77</td>\n",
       "      <td>74</td>\n",
       "      <td>17</td>\n",
       "      <td>14</td>\n",
       "    </tr>\n",
       "    <tr>\n",
       "      <th>AnnouncementsView</th>\n",
       "      <td>5</td>\n",
       "      <td>14</td>\n",
       "      <td>25</td>\n",
       "      <td>14</td>\n",
       "      <td>23</td>\n",
       "    </tr>\n",
       "    <tr>\n",
       "      <th>Discussion</th>\n",
       "      <td>8</td>\n",
       "      <td>28</td>\n",
       "      <td>29</td>\n",
       "      <td>57</td>\n",
       "      <td>62</td>\n",
       "    </tr>\n",
       "    <tr>\n",
       "      <th>ParentAnsweringSurvey</th>\n",
       "      <td>No</td>\n",
       "      <td>No</td>\n",
       "      <td>No</td>\n",
       "      <td>No</td>\n",
       "      <td>No</td>\n",
       "    </tr>\n",
       "    <tr>\n",
       "      <th>ParentschoolSatisfaction</th>\n",
       "      <td>Bad</td>\n",
       "      <td>Bad</td>\n",
       "      <td>Bad</td>\n",
       "      <td>Bad</td>\n",
       "      <td>Bad</td>\n",
       "    </tr>\n",
       "    <tr>\n",
       "      <th>StudentAbsenceDays</th>\n",
       "      <td>Above-7</td>\n",
       "      <td>Under-7</td>\n",
       "      <td>Under-7</td>\n",
       "      <td>Above-7</td>\n",
       "      <td>Above-7</td>\n",
       "    </tr>\n",
       "    <tr>\n",
       "      <th>Class</th>\n",
       "      <td>L</td>\n",
       "      <td>M</td>\n",
       "      <td>M</td>\n",
       "      <td>L</td>\n",
       "      <td>L</td>\n",
       "    </tr>\n",
       "  </tbody>\n",
       "</table>\n",
       "</div>"
      ],
      "text/plain": [
       "                                   475           476           477  \\\n",
       "gender                               F             F             F   \n",
       "NationalITy                     Jordan        Jordan        Jordan   \n",
       "PlaceofBirth                    Jordan        Jordan        Jordan   \n",
       "StageID                   MiddleSchool  MiddleSchool  MiddleSchool   \n",
       "GradeID                           G-08          G-08          G-08   \n",
       "SectionID                            A             A             A   \n",
       "Topic                        Chemistry       Geology       Geology   \n",
       "Semester                             S             F             S   \n",
       "Relation                        Father        Father        Father   \n",
       "raisedhands                        5.0          50.0          55.0   \n",
       "VisITedResources                     4            77            74   \n",
       "AnnouncementsView                    5            14            25   \n",
       "Discussion                           8            28            29   \n",
       "ParentAnsweringSurvey               No            No            No   \n",
       "ParentschoolSatisfaction           Bad           Bad           Bad   \n",
       "StudentAbsenceDays             Above-7       Under-7       Under-7   \n",
       "Class                                L             M             M   \n",
       "\n",
       "                                   478           479  \n",
       "gender                               F             F  \n",
       "NationalITy                     Jordan        Jordan  \n",
       "PlaceofBirth                    Jordan        Jordan  \n",
       "StageID                   MiddleSchool  MiddleSchool  \n",
       "GradeID                           G-08          G-08  \n",
       "SectionID                            A             A  \n",
       "Topic                          History       History  \n",
       "Semester                             F             S  \n",
       "Relation                        Father        Father  \n",
       "raisedhands                       30.0          35.0  \n",
       "VisITedResources                    17            14  \n",
       "AnnouncementsView                   14            23  \n",
       "Discussion                          57            62  \n",
       "ParentAnsweringSurvey               No            No  \n",
       "ParentschoolSatisfaction           Bad           Bad  \n",
       "StudentAbsenceDays             Above-7       Above-7  \n",
       "Class                                L             L  "
      ]
     },
     "execution_count": 36,
     "metadata": {},
     "output_type": "execute_result"
    }
   ],
   "source": [
    "df.tail().T"
   ]
  },
  {
   "cell_type": "code",
   "execution_count": 37,
   "id": "c6a5cb19",
   "metadata": {},
   "outputs": [
    {
     "data": {
      "text/html": [
       "<div>\n",
       "<style scoped>\n",
       "    .dataframe tbody tr th:only-of-type {\n",
       "        vertical-align: middle;\n",
       "    }\n",
       "\n",
       "    .dataframe tbody tr th {\n",
       "        vertical-align: top;\n",
       "    }\n",
       "\n",
       "    .dataframe thead th {\n",
       "        text-align: right;\n",
       "    }\n",
       "</style>\n",
       "<table border=\"1\" class=\"dataframe\">\n",
       "  <thead>\n",
       "    <tr style=\"text-align: right;\">\n",
       "      <th></th>\n",
       "      <th>66</th>\n",
       "      <th>194</th>\n",
       "      <th>47</th>\n",
       "      <th>135</th>\n",
       "      <th>148</th>\n",
       "    </tr>\n",
       "  </thead>\n",
       "  <tbody>\n",
       "    <tr>\n",
       "      <th>gender</th>\n",
       "      <td>F</td>\n",
       "      <td>M</td>\n",
       "      <td>F</td>\n",
       "      <td>F</td>\n",
       "      <td>F</td>\n",
       "    </tr>\n",
       "    <tr>\n",
       "      <th>NationalITy</th>\n",
       "      <td>KW</td>\n",
       "      <td>Morocco</td>\n",
       "      <td>KW</td>\n",
       "      <td>Egypt</td>\n",
       "      <td>Jordan</td>\n",
       "    </tr>\n",
       "    <tr>\n",
       "      <th>PlaceofBirth</th>\n",
       "      <td>KuwaIT</td>\n",
       "      <td>Morocco</td>\n",
       "      <td>KuwaIT</td>\n",
       "      <td>Egypt</td>\n",
       "      <td>Jordan</td>\n",
       "    </tr>\n",
       "    <tr>\n",
       "      <th>StageID</th>\n",
       "      <td>HighSchool</td>\n",
       "      <td>MiddleSchool</td>\n",
       "      <td>HighSchool</td>\n",
       "      <td>MiddleSchool</td>\n",
       "      <td>MiddleSchool</td>\n",
       "    </tr>\n",
       "    <tr>\n",
       "      <th>GradeID</th>\n",
       "      <td>G-12</td>\n",
       "      <td>G-08</td>\n",
       "      <td>G-12</td>\n",
       "      <td>G-07</td>\n",
       "      <td>G-07</td>\n",
       "    </tr>\n",
       "    <tr>\n",
       "      <th>SectionID</th>\n",
       "      <td>A</td>\n",
       "      <td>A</td>\n",
       "      <td>A</td>\n",
       "      <td>A</td>\n",
       "      <td>A</td>\n",
       "    </tr>\n",
       "    <tr>\n",
       "      <th>Topic</th>\n",
       "      <td>English</td>\n",
       "      <td>Arabic</td>\n",
       "      <td>English</td>\n",
       "      <td>Quran</td>\n",
       "      <td>Quran</td>\n",
       "    </tr>\n",
       "    <tr>\n",
       "      <th>Semester</th>\n",
       "      <td>F</td>\n",
       "      <td>S</td>\n",
       "      <td>F</td>\n",
       "      <td>S</td>\n",
       "      <td>S</td>\n",
       "    </tr>\n",
       "    <tr>\n",
       "      <th>Relation</th>\n",
       "      <td>Father</td>\n",
       "      <td>Mum</td>\n",
       "      <td>Mum</td>\n",
       "      <td>Mum</td>\n",
       "      <td>Father</td>\n",
       "    </tr>\n",
       "    <tr>\n",
       "      <th>raisedhands</th>\n",
       "      <td>25.0</td>\n",
       "      <td>53.0</td>\n",
       "      <td>70.0</td>\n",
       "      <td>70.0</td>\n",
       "      <td>60.0</td>\n",
       "    </tr>\n",
       "    <tr>\n",
       "      <th>VisITedResources</th>\n",
       "      <td>10</td>\n",
       "      <td>75</td>\n",
       "      <td>4</td>\n",
       "      <td>80</td>\n",
       "      <td>55</td>\n",
       "    </tr>\n",
       "    <tr>\n",
       "      <th>AnnouncementsView</th>\n",
       "      <td>19</td>\n",
       "      <td>72</td>\n",
       "      <td>39</td>\n",
       "      <td>95</td>\n",
       "      <td>30</td>\n",
       "    </tr>\n",
       "    <tr>\n",
       "      <th>Discussion</th>\n",
       "      <td>30</td>\n",
       "      <td>23</td>\n",
       "      <td>90</td>\n",
       "      <td>70</td>\n",
       "      <td>40</td>\n",
       "    </tr>\n",
       "    <tr>\n",
       "      <th>ParentAnsweringSurvey</th>\n",
       "      <td>No</td>\n",
       "      <td>No</td>\n",
       "      <td>Yes</td>\n",
       "      <td>Yes</td>\n",
       "      <td>No</td>\n",
       "    </tr>\n",
       "    <tr>\n",
       "      <th>ParentschoolSatisfaction</th>\n",
       "      <td>Bad</td>\n",
       "      <td>Bad</td>\n",
       "      <td>Good</td>\n",
       "      <td>Good</td>\n",
       "      <td>Bad</td>\n",
       "    </tr>\n",
       "    <tr>\n",
       "      <th>StudentAbsenceDays</th>\n",
       "      <td>Above-7</td>\n",
       "      <td>Under-7</td>\n",
       "      <td>Under-7</td>\n",
       "      <td>Under-7</td>\n",
       "      <td>Under-7</td>\n",
       "    </tr>\n",
       "    <tr>\n",
       "      <th>Class</th>\n",
       "      <td>M</td>\n",
       "      <td>M</td>\n",
       "      <td>H</td>\n",
       "      <td>H</td>\n",
       "      <td>M</td>\n",
       "    </tr>\n",
       "  </tbody>\n",
       "</table>\n",
       "</div>"
      ],
      "text/plain": [
       "                                 66            194         47            135  \\\n",
       "gender                             F             M           F             F   \n",
       "NationalITy                       KW       Morocco          KW         Egypt   \n",
       "PlaceofBirth                  KuwaIT       Morocco      KuwaIT         Egypt   \n",
       "StageID                   HighSchool  MiddleSchool  HighSchool  MiddleSchool   \n",
       "GradeID                         G-12          G-08        G-12          G-07   \n",
       "SectionID                          A             A           A             A   \n",
       "Topic                        English        Arabic     English         Quran   \n",
       "Semester                           F             S           F             S   \n",
       "Relation                      Father           Mum         Mum           Mum   \n",
       "raisedhands                     25.0          53.0        70.0          70.0   \n",
       "VisITedResources                  10            75           4            80   \n",
       "AnnouncementsView                 19            72          39            95   \n",
       "Discussion                        30            23          90            70   \n",
       "ParentAnsweringSurvey             No            No         Yes           Yes   \n",
       "ParentschoolSatisfaction         Bad           Bad        Good          Good   \n",
       "StudentAbsenceDays           Above-7       Under-7     Under-7       Under-7   \n",
       "Class                              M             M           H             H   \n",
       "\n",
       "                                   148  \n",
       "gender                               F  \n",
       "NationalITy                     Jordan  \n",
       "PlaceofBirth                    Jordan  \n",
       "StageID                   MiddleSchool  \n",
       "GradeID                           G-07  \n",
       "SectionID                            A  \n",
       "Topic                            Quran  \n",
       "Semester                             S  \n",
       "Relation                        Father  \n",
       "raisedhands                       60.0  \n",
       "VisITedResources                    55  \n",
       "AnnouncementsView                   30  \n",
       "Discussion                          40  \n",
       "ParentAnsweringSurvey               No  \n",
       "ParentschoolSatisfaction           Bad  \n",
       "StudentAbsenceDays             Under-7  \n",
       "Class                                M  "
      ]
     },
     "execution_count": 37,
     "metadata": {},
     "output_type": "execute_result"
    }
   ],
   "source": [
    "df.sample(5).T"
   ]
  },
  {
   "cell_type": "code",
   "execution_count": 38,
   "id": "7789fc93",
   "metadata": {},
   "outputs": [
    {
     "name": "stdout",
     "output_type": "stream",
     "text": [
      "Statistical information of Numerical columns:\n",
      "                    count       mean        std  min   25%   50%   75%    max\n",
      "raisedhands        478.0  46.939331  31.375699  0.0  15.0  50.0  75.0  170.0\n",
      "VisITedResources   480.0  54.797917  33.080007  0.0  20.0  65.0  84.0   99.0\n",
      "AnnouncementsView  480.0  37.918750  26.611244  0.0  14.0  33.0  58.0   98.0\n",
      "Discussion         480.0  43.283333  27.637735  1.0  20.0  39.0  70.0   99.0\n"
     ]
    }
   ],
   "source": [
    "print(\"Statistical information of Numerical columns:\\n\",df.describe().T)"
   ]
  },
  {
   "cell_type": "code",
   "execution_count": 39,
   "id": "8fba24c9",
   "metadata": {},
   "outputs": [
    {
     "name": "stdout",
     "output_type": "stream",
     "text": [
      "Total Number of Null Values:\n",
      " gender                      2\n",
      "NationalITy                 0\n",
      "PlaceofBirth                0\n",
      "StageID                     0\n",
      "GradeID                     0\n",
      "SectionID                   0\n",
      "Topic                       0\n",
      "Semester                    0\n",
      "Relation                    0\n",
      "raisedhands                 2\n",
      "VisITedResources            0\n",
      "AnnouncementsView           0\n",
      "Discussion                  0\n",
      "ParentAnsweringSurvey       0\n",
      "ParentschoolSatisfaction    0\n",
      "StudentAbsenceDays          0\n",
      "Class                       0\n",
      "dtype: int64\n"
     ]
    }
   ],
   "source": [
    "print(\"Total Number of Null Values:\\n\",df.isna().sum())"
   ]
  },
  {
   "cell_type": "code",
   "execution_count": 40,
   "id": "46870fa8",
   "metadata": {},
   "outputs": [],
   "source": [
    "#converting a categorical to numeric using find and replace method\n",
    "df['Relation']=df['Relation'].astype('category')\n",
    "df['Relation']=df['Relation'].cat.codes"
   ]
  },
  {
   "cell_type": "code",
   "execution_count": 48,
   "id": "42d53048",
   "metadata": {},
   "outputs": [
    {
     "data": {
      "image/png": "[encoded data removed]",
      "text/plain": [
       "<Figure size 640x480 with 4 Axes>"
      ]
     },
     "metadata": {},
     "output_type": "display_data"
    }
   ],
   "source": [
    "#outlies can be visualized using boxplot\n",
    "# using seaborn library we can plot the boxplot\n",
    "\n",
    "fig, axes = plt.subplots(2,2)\n",
    "fig.suptitle('Before Removing Outliers')\n",
    "sns.boxplot(data = df, x='raisedhands', ax=axes[0,0])\n",
    "sns.boxplot(data = df, x='VisITedResources', ax=axes[0,1])\n",
    "sns.boxplot(data = df, x='AnnouncementsView', ax=axes[1,0])\n",
    "sns.boxplot(data = df, x='Discussion', ax=axes[1,1])\n",
    "plt.show()"
   ]
  },
  {
   "cell_type": "code",
   "execution_count": 51,
   "id": "93cc8e0c",
   "metadata": {},
   "outputs": [
    {
     "name": "stdout",
     "output_type": "stream",
     "text": [
      "Highest allowed in variable: raisedhands 165.0\n",
      "lowest allowed in variable: raisedhands -75.0\n",
      "Total outliers in: raisedhands : 1\n",
      "Outliers : \n",
      " 1\n",
      "                                    28\n",
      "gender                               M\n",
      "NationalITy                         KW\n",
      "PlaceofBirth                    KuwaIT\n",
      "StageID                   MiddleSchool\n",
      "GradeID                           G-08\n",
      "SectionID                            A\n",
      "Topic                          Science\n",
      "Semester                             F\n",
      "Relation                             0\n",
      "raisedhands                      170.0\n",
      "VisITedResources                    85\n",
      "AnnouncementsView                   52\n",
      "Discussion                          43\n",
      "ParentAnsweringSurvey              Yes\n",
      "ParentschoolSatisfaction          Good\n",
      "StudentAbsenceDays             Under-7\n",
      "Class                                M\n"
     ]
    }
   ],
   "source": [
    "df = DetectOutlier(df,'raisedhands')"
   ]
  },
  {
   "cell_type": "code",
   "execution_count": 52,
   "id": "99c7eea6",
   "metadata": {},
   "outputs": [
    {
     "data": {
      "image/png": "[encoded data removed]",
      "text/plain": [
       "<Figure size 640x480 with 4 Axes>"
      ]
     },
     "metadata": {},
     "output_type": "display_data"
    }
   ],
   "source": [
    "#outlies can be visualized using boxplot\n",
    "# using seaborn library we can plot the boxplot\n",
    "\n",
    "fig, axes = plt.subplots(2,2)\n",
    "fig.suptitle('After Removing Outliers')\n",
    "sns.boxplot(data = df, x='raisedhands', ax=axes[0,0])\n",
    "sns.boxplot(data = df, x='VisITedResources', ax=axes[0,1])\n",
    "sns.boxplot(data = df, x='AnnouncementsView', ax=axes[1,0])\n",
    "sns.boxplot(data = df, x='Discussion', ax=axes[1,1])\n",
    "plt.show()"
   ]
  },
  {
   "cell_type": "code",
   "execution_count": 53,
   "id": "ab3f4557",
   "metadata": {},
   "outputs": [
    {
     "name": "stdout",
     "output_type": "stream",
     "text": [
      "---------------- Data Skew Values before Yeo John Transformation ----------------------\n"
     ]
    }
   ],
   "source": [
    "print('---------------- Data Skew Values before Yeo John Transformation ----------------------')"
   ]
  },
  {
   "cell_type": "code",
   "execution_count": 55,
   "id": "143e4ec8",
   "metadata": {},
   "outputs": [
    {
     "name": "stdout",
     "output_type": "stream",
     "text": [
      "raisedhands:  0.02842019812567035\n"
     ]
    }
   ],
   "source": [
    "print('raisedhands: ', df['raisedhands'].skew())\n"
   ]
  },
  {
   "cell_type": "code",
   "execution_count": 57,
   "id": "7dbafb6e",
   "metadata": {},
   "outputs": [
    {
     "name": "stdout",
     "output_type": "stream",
     "text": [
      "VisITedResources:  -0.3487897627878132\n",
      "AnnouncementsView:  0.39686773835939115\n",
      "Discussion:  0.3551177986213502\n"
     ]
    }
   ],
   "source": [
    "print('VisITedResources: ', df['VisITedResources'].skew())\n",
    "print('AnnouncementsView: ', df['AnnouncementsView'].skew())\n",
    "print('Discussion: ', df['Discussion'].skew())"
   ]
  },
  {
   "cell_type": "code",
   "execution_count": 58,
   "id": "868f16f0",
   "metadata": {},
   "outputs": [
    {
     "name": "stderr",
     "output_type": "stream",
     "text": [
      "C:\\Users\\HP\\anaconda3\\Lib\\site-packages\\seaborn\\_oldcore.py:1119: FutureWarning: use_inf_as_na option is deprecated and will be removed in a future version. Convert inf values to NaN before operating instead.\n",
      "  with pd.option_context('mode.use_inf_as_na', True):\n",
      "C:\\Users\\HP\\anaconda3\\Lib\\site-packages\\seaborn\\_oldcore.py:1119: FutureWarning: use_inf_as_na option is deprecated and will be removed in a future version. Convert inf values to NaN before operating instead.\n",
      "  with pd.option_context('mode.use_inf_as_na', True):\n"
     ]
    },
    {
     "data": {
      "text/plain": [
       "<Axes: xlabel='Discussion', ylabel='Count'>"
      ]
     },
     "execution_count": 58,
     "metadata": {},
     "output_type": "execute_result"
    }
   ],
   "source": [
    "fig, axes = plt.subplots(2,2)\n",
    "fig.suptitle('Handling Data Skewness')\n",
    "sns.histplot(ax = axes[0,0], data = df['AnnouncementsView'], kde=True)\n",
    "sns.histplot(ax = axes[0,1], data = df['Discussion'], kde=True)"
   ]
  },
  {
   "cell_type": "code",
   "execution_count": 59,
   "id": "675a001e",
   "metadata": {},
   "outputs": [
    {
     "name": "stderr",
     "output_type": "stream",
     "text": [
      "C:\\Users\\HP\\AppData\\Local\\Temp\\ipykernel_3704\\3327058018.py:3: SettingWithCopyWarning: \n",
      "A value is trying to be set on a copy of a slice from a DataFrame.\n",
      "Try using .loc[row_indexer,col_indexer] = value instead\n",
      "\n",
      "See the caveats in the documentation: https://pandas.pydata.org/pandas-docs/stable/user_guide/indexing.html#returning-a-view-versus-a-copy\n",
      "  df['AnnouncementsView'] = yeojohnTr.fit_transform(df['AnnouncementsView'].values.reshape(-1,1))\n",
      "C:\\Users\\HP\\AppData\\Local\\Temp\\ipykernel_3704\\3327058018.py:4: SettingWithCopyWarning: \n",
      "A value is trying to be set on a copy of a slice from a DataFrame.\n",
      "Try using .loc[row_indexer,col_indexer] = value instead\n",
      "\n",
      "See the caveats in the documentation: https://pandas.pydata.org/pandas-docs/stable/user_guide/indexing.html#returning-a-view-versus-a-copy\n",
      "  df['Discussion'] = yeojohnTr.fit_transform(df['Discussion'].values.reshape(-1,1))\n"
     ]
    }
   ],
   "source": [
    "\n",
    "from sklearn.preprocessing import PowerTransformer\n",
    "yeojohnTr = PowerTransformer(standardize=True)\n",
    "df['AnnouncementsView'] = yeojohnTr.fit_transform(df['AnnouncementsView'].values.reshape(-1,1))\n",
    "df['Discussion'] = yeojohnTr.fit_transform(df['Discussion'].values.reshape(-1,1))"
   ]
  },
  {
   "cell_type": "code",
   "execution_count": 60,
   "id": "e7f7eed6",
   "metadata": {},
   "outputs": [
    {
     "name": "stdout",
     "output_type": "stream",
     "text": [
      "---------------- Data Skew Values after Yeo John Transformation ----------------------\n",
      "AnnouncementsView:  -0.1809444188780711\n",
      "Discussion:  -0.13562031522282225\n"
     ]
    }
   ],
   "source": [
    "\n",
    "print('---------------- Data Skew Values after Yeo John Transformation ----------------------')\n",
    "print('AnnouncementsView: ', df['AnnouncementsView'].skew())\n",
    "print('Discussion: ', df['Discussion'].skew())\n"
   ]
  },
  {
   "cell_type": "code",
   "execution_count": 61,
   "id": "0e7a2755",
   "metadata": {},
   "outputs": [
    {
     "data": {
      "image/png": "[encoded data removed]",
      "text/plain": [
       "<Figure size 640x480 with 4 Axes>"
      ]
     },
     "metadata": {},
     "output_type": "display_data"
    },
    {
     "data": {
      "image/png": "[encoded data removed]",
      "text/plain": [
       "<Figure size 1000x500 with 2 Axes>"
      ]
     },
     "metadata": {},
     "output_type": "display_data"
    }
   ],
   "source": [
    "\n",
    "import seaborn as sns\n",
    "import matplotlib.pyplot as plt\n",
    "import warnings\n",
    "\n",
    "warnings.filterwarnings(\"ignore\", category=FutureWarning)\n",
    "\n",
    "# Create a figure with 2x1 subplots\n",
    "fig, axes = plt.subplots(nrows=1, ncols=2, figsize=(10, 5))\n",
    "\n",
    "# Plot the histogram for AnnouncementsView\n",
    "sns.histplot(ax=axes[0], data=df['AnnouncementsView'], kde=True)\n",
    "axes[0].set_title('AnnouncementsView')\n",
    "\n",
    "# Plot the histogram for Discussion\n",
    "sns.histplot(ax=axes[1], data=df['Discussion'], kde=True)\n",
    "axes[1].set_title('Discussion')\n",
    "\n",
    "# Show the plot\n",
    "plt.show()"
   ]
  },
  {
   "cell_type": "code",
   "execution_count": null,
   "id": "0012b293",
   "metadata": {},
   "outputs": [],
   "source": []
  }
 ],
 "metadata": {
  "kernelspec": {
   "display_name": "Python 3 (ipykernel)",
   "language": "python",
   "name": "python3"
  },
  "language_info": {
   "codemirror_mode": {
    "name": "ipython",
    "version": 3
   },
   "file_extension": ".py",
   "mimetype": "text/x-python",
   "name": "python",
   "nbconvert_exporter": "python",
   "pygments_lexer": "ipython3",
   "version": "3.11.7"
  }
 },
 "nbformat": 4,
 "nbformat_minor": 5
}
